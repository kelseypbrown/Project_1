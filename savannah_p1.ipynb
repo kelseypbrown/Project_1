{
 "cells": [
  {
   "cell_type": "markdown",
   "id": "34e76872",
   "metadata": {},
   "source": [
    "Questions: \n",
    "1. Which age groups are using which devices to watch Netflix?\n",
    "2. Does Subscription type affect distribution across age groups?\n",
    "\n",
    "First, I used another notebook to bin and split the larger age range of 26-51 of users into brackets of under 25-34, 35-44, and 45+. I added the age groups as their own column and saved as a new CSV to keep it a bit more manageable for myself when working with the data and to clean up my notebooks.\n",
    "\n",
    "After filtering and making sure I didn’t have any duplicates, I wanted to count the amount of users per age group and used this to make my user count/age range bar graph. The most represented age range is 35-44.\n",
    "\n",
    "I also counted devices used and made a pie chart of the devices used across users, reflecting relatively even usage. Devices used were Smart TVs, Laptops, Smartphones, and Tablets. \n",
    "\n",
    "I then created a bar chart to compare the use of devices versus age groups. When comparing the binned age groups to the devices used, we can see that the 25-34 group prefers Tablet usage, 35-44 prefers Laptop usage, and 45+ prefers Smart TV use.\n",
    "\n",
    "Comparing age groups and Subscription types, the Basic subscription type is the most popular between all binned age groups. Subscription types were almost evenly spread but we can see that Basic is the most popular by far with Standard close behind and Premium last.\n",
    "\n",
    "I would be curious to see a larger age range, especially in light of Netflix's password sharing crackdowns; it seems families tend to share Netflix accounts with younger relatives. Netflix could use that data to make decisions regarding family accounts, account sharing, targeting shows to certain age demographics, etc.\n"
   ]
  },
  {
   "cell_type": "code",
   "execution_count": 1,
   "id": "b76c00fd",
   "metadata": {},
   "outputs": [],
   "source": [
    "import pandas as pd\n",
    "import numpy as np \n",
    "import matplotlib.pyplot as plt\n",
    "from pathlib import Path\n",
    "%matplotlib inline\n",
    "import seaborn as sns"
   ]
  },
  {
   "cell_type": "code",
   "execution_count": 2,
   "id": "35a1c6c5",
   "metadata": {},
   "outputs": [
    {
     "data": {
      "text/html": [
       "<div>\n",
       "<style scoped>\n",
       "    .dataframe tbody tr th:only-of-type {\n",
       "        vertical-align: middle;\n",
       "    }\n",
       "\n",
       "    .dataframe tbody tr th {\n",
       "        vertical-align: top;\n",
       "    }\n",
       "\n",
       "    .dataframe thead th {\n",
       "        text-align: right;\n",
       "    }\n",
       "</style>\n",
       "<table border=\"1\" class=\"dataframe\">\n",
       "  <thead>\n",
       "    <tr style=\"text-align: right;\">\n",
       "      <th></th>\n",
       "      <th>Subscription Type</th>\n",
       "      <th>Monthly Revenue</th>\n",
       "      <th>Join Date</th>\n",
       "      <th>Last Payment Date</th>\n",
       "      <th>Country</th>\n",
       "      <th>Age</th>\n",
       "      <th>Gender</th>\n",
       "      <th>Device</th>\n",
       "      <th>Plan Duration</th>\n",
       "      <th>Netflix User Age Range</th>\n",
       "    </tr>\n",
       "  </thead>\n",
       "  <tbody>\n",
       "    <tr>\n",
       "      <th>0</th>\n",
       "      <td>Basic</td>\n",
       "      <td>10</td>\n",
       "      <td>15-01-22</td>\n",
       "      <td>10/6/23</td>\n",
       "      <td>United States</td>\n",
       "      <td>28</td>\n",
       "      <td>Male</td>\n",
       "      <td>Smartphone</td>\n",
       "      <td>1 Month</td>\n",
       "      <td>25-34</td>\n",
       "    </tr>\n",
       "    <tr>\n",
       "      <th>1</th>\n",
       "      <td>Premium</td>\n",
       "      <td>15</td>\n",
       "      <td>5/9/21</td>\n",
       "      <td>22-06-23</td>\n",
       "      <td>Canada</td>\n",
       "      <td>35</td>\n",
       "      <td>Female</td>\n",
       "      <td>Tablet</td>\n",
       "      <td>1 Month</td>\n",
       "      <td>25-34</td>\n",
       "    </tr>\n",
       "    <tr>\n",
       "      <th>2</th>\n",
       "      <td>Standard</td>\n",
       "      <td>12</td>\n",
       "      <td>28-02-23</td>\n",
       "      <td>27-06-23</td>\n",
       "      <td>United Kingdom</td>\n",
       "      <td>42</td>\n",
       "      <td>Male</td>\n",
       "      <td>Smart TV</td>\n",
       "      <td>1 Month</td>\n",
       "      <td>35-44</td>\n",
       "    </tr>\n",
       "    <tr>\n",
       "      <th>3</th>\n",
       "      <td>Standard</td>\n",
       "      <td>12</td>\n",
       "      <td>10/7/22</td>\n",
       "      <td>26-06-23</td>\n",
       "      <td>Australia</td>\n",
       "      <td>51</td>\n",
       "      <td>Female</td>\n",
       "      <td>Laptop</td>\n",
       "      <td>1 Month</td>\n",
       "      <td>45+</td>\n",
       "    </tr>\n",
       "    <tr>\n",
       "      <th>4</th>\n",
       "      <td>Basic</td>\n",
       "      <td>10</td>\n",
       "      <td>1/5/23</td>\n",
       "      <td>28-06-23</td>\n",
       "      <td>Germany</td>\n",
       "      <td>33</td>\n",
       "      <td>Male</td>\n",
       "      <td>Smartphone</td>\n",
       "      <td>1 Month</td>\n",
       "      <td>25-34</td>\n",
       "    </tr>\n",
       "  </tbody>\n",
       "</table>\n",
       "</div>"
      ],
      "text/plain": [
       "  Subscription Type  Monthly Revenue Join Date Last Payment Date  \\\n",
       "0             Basic               10  15-01-22           10/6/23   \n",
       "1           Premium               15    5/9/21          22-06-23   \n",
       "2          Standard               12  28-02-23          27-06-23   \n",
       "3          Standard               12   10/7/22          26-06-23   \n",
       "4             Basic               10    1/5/23          28-06-23   \n",
       "\n",
       "          Country  Age  Gender      Device Plan Duration  \\\n",
       "0   United States   28    Male  Smartphone       1 Month   \n",
       "1          Canada   35  Female      Tablet       1 Month   \n",
       "2  United Kingdom   42    Male    Smart TV       1 Month   \n",
       "3       Australia   51  Female      Laptop       1 Month   \n",
       "4         Germany   33    Male  Smartphone       1 Month   \n",
       "\n",
       "  Netflix User Age Range  \n",
       "0                  25-34  \n",
       "1                  25-34  \n",
       "2                  35-44  \n",
       "3                    45+  \n",
       "4                  25-34  "
      ]
     },
     "execution_count": 2,
     "metadata": {},
     "output_type": "execute_result"
    }
   ],
   "source": [
    "csv_path = Path(\"/Users/olive/Desktop/Edited Netflix Userbase.csv\")\n",
    "netflix_user_df = pd.read_csv(csv_path)\n",
    "\n",
    "netflix_user_df.drop(['User ID'],axis=1, inplace=True)\n",
    "\n",
    "netflix_user_df.head()"
   ]
  },
  {
   "cell_type": "code",
   "execution_count": 3,
   "id": "69e62791",
   "metadata": {},
   "outputs": [
    {
     "data": {
      "text/plain": [
       "Subscription Type         2500\n",
       "Monthly Revenue           2500\n",
       "Join Date                 2500\n",
       "Last Payment Date         2500\n",
       "Country                   2500\n",
       "Age                       2500\n",
       "Gender                    2500\n",
       "Device                    2500\n",
       "Plan Duration             2500\n",
       "Netflix User Age Range    2500\n",
       "dtype: int64"
      ]
     },
     "execution_count": 3,
     "metadata": {},
     "output_type": "execute_result"
    }
   ],
   "source": [
    "netflix_user_df.count()"
   ]
  },
  {
   "cell_type": "code",
   "execution_count": 4,
   "id": "cf095cee",
   "metadata": {},
   "outputs": [],
   "source": [
    "netflix_user_df = netflix_user_df.dropna(how='any')"
   ]
  },
  {
   "cell_type": "code",
   "execution_count": 5,
   "id": "a53b3444",
   "metadata": {},
   "outputs": [
    {
     "data": {
      "text/plain": [
       "Subscription Type         object\n",
       "Monthly Revenue            int64\n",
       "Join Date                 object\n",
       "Last Payment Date         object\n",
       "Country                   object\n",
       "Age                        int64\n",
       "Gender                    object\n",
       "Device                    object\n",
       "Plan Duration             object\n",
       "Netflix User Age Range    object\n",
       "dtype: object"
      ]
     },
     "execution_count": 5,
     "metadata": {},
     "output_type": "execute_result"
    }
   ],
   "source": [
    "netflix_user_df.dtypes"
   ]
  },
  {
   "cell_type": "code",
   "execution_count": 6,
   "id": "c5c55bb6",
   "metadata": {},
   "outputs": [],
   "source": [
    "netflix_user_df = netflix_user_df.astype({\"Age\": str}, errors='raise')"
   ]
  },
  {
   "cell_type": "code",
   "execution_count": 7,
   "id": "8be50478",
   "metadata": {},
   "outputs": [
    {
     "data": {
      "text/plain": [
       "dtype('O')"
      ]
     },
     "execution_count": 7,
     "metadata": {},
     "output_type": "execute_result"
    }
   ],
   "source": [
    "netflix_user_df['Age'].dtype"
   ]
  },
  {
   "cell_type": "code",
   "execution_count": 8,
   "id": "95f2973b",
   "metadata": {},
   "outputs": [
    {
     "data": {
      "text/plain": [
       "Laptop        636\n",
       "Tablet        633\n",
       "Smartphone    621\n",
       "Smart TV      610\n",
       "Name: Device, dtype: int64"
      ]
     },
     "execution_count": 8,
     "metadata": {},
     "output_type": "execute_result"
    }
   ],
   "source": [
    "netflix_user_df['Device'].value_counts()"
   ]
  },
  {
   "cell_type": "code",
   "execution_count": 9,
   "id": "8452c1ef",
   "metadata": {},
   "outputs": [
    {
     "data": {
      "text/plain": [
       "39    116\n",
       "30    116\n",
       "28    115\n",
       "31    115\n",
       "41    114\n",
       "47    111\n",
       "37    107\n",
       "35    105\n",
       "29    104\n",
       "40    103\n",
       "42    102\n",
       "48    101\n",
       "46     99\n",
       "36     99\n",
       "49     97\n",
       "43     94\n",
       "33     93\n",
       "51     93\n",
       "32     92\n",
       "45     89\n",
       "38     89\n",
       "34     88\n",
       "27     87\n",
       "44     86\n",
       "50     84\n",
       "26      1\n",
       "Name: Age, dtype: int64"
      ]
     },
     "execution_count": 9,
     "metadata": {},
     "output_type": "execute_result"
    }
   ],
   "source": [
    "netflix_user_df['Age'].value_counts()"
   ]
  },
  {
   "cell_type": "code",
   "execution_count": 10,
   "id": "015f26b3",
   "metadata": {},
   "outputs": [
    {
     "data": {
      "text/plain": [
       "35-44    999\n",
       "25-34    916\n",
       "45+      585\n",
       "Name: Netflix User Age Range, dtype: int64"
      ]
     },
     "execution_count": 10,
     "metadata": {},
     "output_type": "execute_result"
    }
   ],
   "source": [
    "netflix_user_df['Netflix User Age Range'].value_counts()"
   ]
  },
  {
   "cell_type": "code",
   "execution_count": 11,
   "id": "548a359e",
   "metadata": {},
   "outputs": [
    {
     "name": "stdout",
     "output_type": "stream",
     "text": [
      "No duplicates found.\n"
     ]
    }
   ],
   "source": [
    "if netflix_user_df.duplicated().any():\n",
    "    print(\"Duplicates found!\")\n",
    "else:\n",
    "    print(\"No duplicates found.\")"
   ]
  },
  {
   "cell_type": "code",
   "execution_count": 12,
   "id": "94767053",
   "metadata": {},
   "outputs": [
    {
     "name": "stdout",
     "output_type": "stream",
     "text": [
      "51\n",
      "26\n"
     ]
    }
   ],
   "source": [
    "print(netflix_user_df[\"Age\"].max())\n",
    "print(netflix_user_df[\"Age\"].min())"
   ]
  },
  {
   "cell_type": "code",
   "execution_count": 14,
   "id": "b1495b9c",
   "metadata": {},
   "outputs": [
    {
     "data": {
      "text/plain": [
       "Netflix User Age Range\n",
       "25-34    916\n",
       "35-44    999\n",
       "45+      585\n",
       "Name: Netflix User Age Range, dtype: int64"
      ]
     },
     "execution_count": 14,
     "metadata": {},
     "output_type": "execute_result"
    }
   ],
   "source": [
    "age_groups = netflix_user_df.groupby('Netflix User Age Range')\n",
    "\n",
    "count_ages = age_groups['Netflix User Age Range'].count()\n",
    "\n",
    "count_ages"
   ]
  },
  {
   "cell_type": "code",
   "execution_count": 15,
   "id": "b4a94e90",
   "metadata": {},
   "outputs": [
    {
     "data": {
      "image/png": "[encoded data removed]",
      "text/plain": [
       "<Figure size 600x800 with 1 Axes>"
      ]
     },
     "metadata": {},
     "output_type": "display_data"
    }
   ],
   "source": [
    "count_chart = count_ages.plot(kind='bar', figsize=(6,8))\n",
    "\n",
    "\n",
    "count_chart.set_xlabel(\"Age Ranges\")\n",
    "count_chart.set_ylabel(\"User Count\")\n",
    "\n",
    "plt.show()"
   ]
  },
  {
   "cell_type": "code",
   "execution_count": 16,
   "id": "9fb24819",
   "metadata": {},
   "outputs": [
    {
     "data": {
      "image/png": "[encoded data removed]",
      "text/plain": [
       "<Figure size 400x400 with 1 Axes>"
      ]
     },
     "metadata": {},
     "output_type": "display_data"
    }
   ],
   "source": [
    "plt.figure(figsize=(4, 4))\n",
    "plt.pie(netflix_user_df['Device'].value_counts(),labels=netflix_user_df['Device'].value_counts().index, autopct='%1.1f%%', startangle=140)\n",
    "plt.title('Devices Used')\n",
    "plt.axis('equal')\n",
    "plt.show()"
   ]
  },
  {
   "cell_type": "code",
   "execution_count": 17,
   "id": "38493d08",
   "metadata": {},
   "outputs": [
    {
     "data": {
      "text/plain": [
       "Laptop        636\n",
       "Tablet        633\n",
       "Smartphone    621\n",
       "Smart TV      610\n",
       "Name: Device, dtype: int64"
      ]
     },
     "execution_count": 17,
     "metadata": {},
     "output_type": "execute_result"
    }
   ],
   "source": [
    "netflix_user_df['Device'].value_counts()"
   ]
  },
  {
   "cell_type": "code",
   "execution_count": 18,
   "id": "4405b711",
   "metadata": {},
   "outputs": [
    {
     "data": {
      "text/html": [
       "<div>\n",
       "<style scoped>\n",
       "    .dataframe tbody tr th:only-of-type {\n",
       "        vertical-align: middle;\n",
       "    }\n",
       "\n",
       "    .dataframe tbody tr th {\n",
       "        vertical-align: top;\n",
       "    }\n",
       "\n",
       "    .dataframe thead th {\n",
       "        text-align: right;\n",
       "    }\n",
       "</style>\n",
       "<table border=\"1\" class=\"dataframe\">\n",
       "  <thead>\n",
       "    <tr style=\"text-align: right;\">\n",
       "      <th></th>\n",
       "      <th>Device</th>\n",
       "      <th>Netflix User Age Range</th>\n",
       "      <th>size</th>\n",
       "    </tr>\n",
       "  </thead>\n",
       "  <tbody>\n",
       "    <tr>\n",
       "      <th>0</th>\n",
       "      <td>Laptop</td>\n",
       "      <td>25-34</td>\n",
       "      <td>221</td>\n",
       "    </tr>\n",
       "    <tr>\n",
       "      <th>1</th>\n",
       "      <td>Laptop</td>\n",
       "      <td>35-44</td>\n",
       "      <td>266</td>\n",
       "    </tr>\n",
       "    <tr>\n",
       "      <th>2</th>\n",
       "      <td>Laptop</td>\n",
       "      <td>45+</td>\n",
       "      <td>149</td>\n",
       "    </tr>\n",
       "    <tr>\n",
       "      <th>3</th>\n",
       "      <td>Smart TV</td>\n",
       "      <td>25-34</td>\n",
       "      <td>231</td>\n",
       "    </tr>\n",
       "    <tr>\n",
       "      <th>4</th>\n",
       "      <td>Smart TV</td>\n",
       "      <td>35-44</td>\n",
       "      <td>228</td>\n",
       "    </tr>\n",
       "    <tr>\n",
       "      <th>5</th>\n",
       "      <td>Smart TV</td>\n",
       "      <td>45+</td>\n",
       "      <td>151</td>\n",
       "    </tr>\n",
       "    <tr>\n",
       "      <th>6</th>\n",
       "      <td>Smartphone</td>\n",
       "      <td>25-34</td>\n",
       "      <td>227</td>\n",
       "    </tr>\n",
       "    <tr>\n",
       "      <th>7</th>\n",
       "      <td>Smartphone</td>\n",
       "      <td>35-44</td>\n",
       "      <td>258</td>\n",
       "    </tr>\n",
       "    <tr>\n",
       "      <th>8</th>\n",
       "      <td>Smartphone</td>\n",
       "      <td>45+</td>\n",
       "      <td>136</td>\n",
       "    </tr>\n",
       "    <tr>\n",
       "      <th>9</th>\n",
       "      <td>Tablet</td>\n",
       "      <td>25-34</td>\n",
       "      <td>237</td>\n",
       "    </tr>\n",
       "    <tr>\n",
       "      <th>10</th>\n",
       "      <td>Tablet</td>\n",
       "      <td>35-44</td>\n",
       "      <td>247</td>\n",
       "    </tr>\n",
       "    <tr>\n",
       "      <th>11</th>\n",
       "      <td>Tablet</td>\n",
       "      <td>45+</td>\n",
       "      <td>149</td>\n",
       "    </tr>\n",
       "  </tbody>\n",
       "</table>\n",
       "</div>"
      ],
      "text/plain": [
       "        Device Netflix User Age Range  size\n",
       "0       Laptop                  25-34   221\n",
       "1       Laptop                  35-44   266\n",
       "2       Laptop                    45+   149\n",
       "3     Smart TV                  25-34   231\n",
       "4     Smart TV                  35-44   228\n",
       "5     Smart TV                    45+   151\n",
       "6   Smartphone                  25-34   227\n",
       "7   Smartphone                  35-44   258\n",
       "8   Smartphone                    45+   136\n",
       "9       Tablet                  25-34   237\n",
       "10      Tablet                  35-44   247\n",
       "11      Tablet                    45+   149"
      ]
     },
     "execution_count": 18,
     "metadata": {},
     "output_type": "execute_result"
    }
   ],
   "source": [
    "netflix_user_df.groupby(by=[\"Device\", \"Netflix User Age Range\"], as_index=False).size()"
   ]
  },
  {
   "cell_type": "code",
   "execution_count": 19,
   "id": "bf818a55",
   "metadata": {},
   "outputs": [
    {
     "name": "stdout",
     "output_type": "stream",
     "text": [
      "Netflix User Age Range  25-34  35-44  45+\n",
      "Device                                   \n",
      "Laptop                    221    266  149\n",
      "Smart TV                  231    228  151\n",
      "Smartphone                227    258  136\n",
      "Tablet                    237    247  149\n"
     ]
    }
   ],
   "source": [
    "print (netflix_user_df.groupby(['Device','Netflix User Age Range']).size().unstack(fill_value=0))"
   ]
  },
  {
   "cell_type": "code",
   "execution_count": 20,
   "id": "e8989fd8",
   "metadata": {},
   "outputs": [
    {
     "data": {
      "text/plain": [
       "<Axes: xlabel='Device'>"
      ]
     },
     "execution_count": 20,
     "metadata": {},
     "output_type": "execute_result"
    },
    {
     "data": {
      "image/png": "[encoded data removed]",
      "text/plain": [
       "<Figure size 640x480 with 1 Axes>"
      ]
     },
     "metadata": {},
     "output_type": "display_data"
    }
   ],
   "source": [
    "netflix_user_df.groupby(['Device','Netflix User Age Range']).size().unstack(fill_value=0).plot.bar()"
   ]
  },
  {
   "cell_type": "code",
   "execution_count": 21,
   "id": "856ea673",
   "metadata": {},
   "outputs": [
    {
     "data": {
      "text/plain": [
       "<Axes: xlabel='Subscription Type'>"
      ]
     },
     "execution_count": 21,
     "metadata": {},
     "output_type": "execute_result"
    },
    {
     "data": {
      "image/png": "[encoded data removed]",
      "text/plain": [
       "<Figure size 640x480 with 1 Axes>"
      ]
     },
     "metadata": {},
     "output_type": "display_data"
    }
   ],
   "source": [
    "netflix_user_df.groupby(['Subscription Type','Netflix User Age Range']).size().unstack(fill_value=0).plot.bar()"
   ]
  },
  {
   "cell_type": "code",
   "execution_count": 22,
   "id": "f6379f09",
   "metadata": {},
   "outputs": [
    {
     "data": {
      "text/html": [
       "<div>\n",
       "<style scoped>\n",
       "    .dataframe tbody tr th:only-of-type {\n",
       "        vertical-align: middle;\n",
       "    }\n",
       "\n",
       "    .dataframe tbody tr th {\n",
       "        vertical-align: top;\n",
       "    }\n",
       "\n",
       "    .dataframe thead th {\n",
       "        text-align: right;\n",
       "    }\n",
       "</style>\n",
       "<table border=\"1\" class=\"dataframe\">\n",
       "  <thead>\n",
       "    <tr style=\"text-align: right;\">\n",
       "      <th></th>\n",
       "      <th>Subscription Type</th>\n",
       "      <th>Netflix User Age Range</th>\n",
       "      <th>size</th>\n",
       "    </tr>\n",
       "  </thead>\n",
       "  <tbody>\n",
       "    <tr>\n",
       "      <th>0</th>\n",
       "      <td>Basic</td>\n",
       "      <td>25-34</td>\n",
       "      <td>354</td>\n",
       "    </tr>\n",
       "    <tr>\n",
       "      <th>1</th>\n",
       "      <td>Basic</td>\n",
       "      <td>35-44</td>\n",
       "      <td>405</td>\n",
       "    </tr>\n",
       "    <tr>\n",
       "      <th>2</th>\n",
       "      <td>Basic</td>\n",
       "      <td>45+</td>\n",
       "      <td>240</td>\n",
       "    </tr>\n",
       "    <tr>\n",
       "      <th>3</th>\n",
       "      <td>Premium</td>\n",
       "      <td>25-34</td>\n",
       "      <td>285</td>\n",
       "    </tr>\n",
       "    <tr>\n",
       "      <th>4</th>\n",
       "      <td>Premium</td>\n",
       "      <td>35-44</td>\n",
       "      <td>279</td>\n",
       "    </tr>\n",
       "    <tr>\n",
       "      <th>5</th>\n",
       "      <td>Premium</td>\n",
       "      <td>45+</td>\n",
       "      <td>169</td>\n",
       "    </tr>\n",
       "    <tr>\n",
       "      <th>6</th>\n",
       "      <td>Standard</td>\n",
       "      <td>25-34</td>\n",
       "      <td>277</td>\n",
       "    </tr>\n",
       "    <tr>\n",
       "      <th>7</th>\n",
       "      <td>Standard</td>\n",
       "      <td>35-44</td>\n",
       "      <td>315</td>\n",
       "    </tr>\n",
       "    <tr>\n",
       "      <th>8</th>\n",
       "      <td>Standard</td>\n",
       "      <td>45+</td>\n",
       "      <td>176</td>\n",
       "    </tr>\n",
       "  </tbody>\n",
       "</table>\n",
       "</div>"
      ],
      "text/plain": [
       "  Subscription Type Netflix User Age Range  size\n",
       "0             Basic                  25-34   354\n",
       "1             Basic                  35-44   405\n",
       "2             Basic                    45+   240\n",
       "3           Premium                  25-34   285\n",
       "4           Premium                  35-44   279\n",
       "5           Premium                    45+   169\n",
       "6          Standard                  25-34   277\n",
       "7          Standard                  35-44   315\n",
       "8          Standard                    45+   176"
      ]
     },
     "execution_count": 22,
     "metadata": {},
     "output_type": "execute_result"
    }
   ],
   "source": [
    "netflix_user_df.groupby(by=[\"Subscription Type\", \"Netflix User Age Range\"], as_index=False).size()"
   ]
  },
  {
   "cell_type": "code",
   "execution_count": 23,
   "id": "f441a04b",
   "metadata": {},
   "outputs": [
    {
     "data": {
      "image/png": "[encoded data removed]",
      "text/plain": [
       "<Figure size 400x400 with 1 Axes>"
      ]
     },
     "metadata": {},
     "output_type": "display_data"
    }
   ],
   "source": [
    "plt.figure(figsize=(4, 4))\n",
    "plt.pie(netflix_user_df['Subscription Type'].value_counts(),labels=netflix_user_df['Subscription Type'].value_counts().index, autopct='%1.1f%%', startangle=140)\n",
    "plt.title('Subscription Types')\n",
    "plt.axis('equal')\n",
    "plt.show()\n"
   ]
  },
  {
   "cell_type": "code",
   "execution_count": null,
   "id": "3f42eee1",
   "metadata": {},
   "outputs": [],
   "source": []
  }
 ],
 "metadata": {
  "kernelspec": {
   "display_name": "Python 3 (ipykernel)",
   "language": "python",
   "name": "python3"
  },
  "language_info": {
   "codemirror_mode": {
    "name": "ipython",
    "version": 3
   },
   "file_extension": ".py",
   "mimetype": "text/x-python",
   "name": "python",
   "nbconvert_exporter": "python",
   "pygments_lexer": "ipython3",
   "version": "3.10.11"
  }
 },
 "nbformat": 4,
 "nbformat_minor": 5
}
